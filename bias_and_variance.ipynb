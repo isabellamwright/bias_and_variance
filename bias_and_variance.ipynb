{
  "cells": [
    {
      "cell_type": "markdown",
      "id": "6b02b922-47f8-4aaf-93e1-73fc6be28c1f",
      "metadata": {
        "id": "6b02b922-47f8-4aaf-93e1-73fc6be28c1f"
      },
      "source": [
        "# Bias and Variance\n",
        "## Foundations of Machine Learning\n",
        "## `! git clone https://www.github.com/DS3001/bias_and_variance`"
      ]
    },
    {
      "cell_type": "code",
      "source": [
        "! git clone https://www.github.com/DS3001/bias_and_variance"
      ],
      "metadata": {
        "id": "l4VrBmmHRd0h",
        "outputId": "ac67c0bc-0049-4d8d-d21b-a92007d5b7ea",
        "colab": {
          "base_uri": "https://localhost:8080/"
        }
      },
      "id": "l4VrBmmHRd0h",
      "execution_count": 1,
      "outputs": [
        {
          "output_type": "stream",
          "name": "stdout",
          "text": [
            "Cloning into 'bias_and_variance'...\n",
            "warning: redirecting to https://github.com/DS3001/bias_and_variance.git/\n",
            "remote: Enumerating objects: 6, done.\u001b[K\n",
            "remote: Counting objects: 100% (6/6), done.\u001b[K\n",
            "remote: Compressing objects: 100% (6/6), done.\u001b[K\n",
            "remote: Total 6 (delta 0), reused 0 (delta 0), pack-reused 0\u001b[K\n",
            "Receiving objects: 100% (6/6), 2.55 MiB | 10.58 MiB/s, done.\n"
          ]
        }
      ]
    },
    {
      "cell_type": "markdown",
      "id": "6d21b004-a1fe-4e4c-8c75-b40216fc2c98",
      "metadata": {
        "id": "6d21b004-a1fe-4e4c-8c75-b40216fc2c98"
      },
      "source": [
        "## Building Linear Models\n",
        "- Random Forests are a modern way to resolve our problems with Decision Trees: Use randomization to create a huge number of fairly low powered trees, and then average them to get a lower variance and higher accuracy predictor\n",
        "- We're going to spend two classes addressing some of the issues with linear models, to bring your toolbox up to a similarly modern standard\n",
        "- Many of the principles can be applied to $k$NN and $k$MC, which have similar model selection questions"
      ]
    },
    {
      "cell_type": "markdown",
      "id": "5c34b559-79bc-421b-8622-605fc9fec413",
      "metadata": {
        "id": "5c34b559-79bc-421b-8622-605fc9fec413"
      },
      "source": [
        "## Linear Model Review\n",
        "- We have a relationship between an outcome $y$ and feature/explanatory/predictor variables $x$,\n",
        "$$\n",
        "y_i = b \\cdot x_i = \\underbrace{b_0}_{\\text{Constant/Intercept}} + \\sum_{k=1}^L \\underbrace{b_k}_{\\text{Slope}} x_{ik}\n",
        "$$\n",
        "- The coefficients/weights are typically chosen to minimize the *Sum of Squared Error*,\n",
        "$$\n",
        "\\text{SSE}(b) = \\sum_{i=1}^N \\left( y_i - b \\cdot x_i \\right)^2\n",
        "$$\n",
        "- The optimal $b$ is called the *Ordinary Least Squares* or OLS estimator ($\\hat{b} = (X'X)^{-1}(X'y)$)"
      ]
    },
    {
      "cell_type": "markdown",
      "id": "8139c632-d58a-4f8b-8b70-bb91a1b05260",
      "metadata": {
        "id": "8139c632-d58a-4f8b-8b70-bb91a1b05260"
      },
      "source": [
        "## Underfitting and Overfitting\n",
        "- What happens when we use \"too few\" or \"too many\" variables in building a linear model?\n",
        "- In the case of linear models, we can explore the consequences of ommitting variables that should arguably be in the model (underfitting) and adding too many variable (overfitting)\n",
        "    - Underfitting: When we leave out variables, we get a phenomenon called **omitted variables bias**, where the coefficients in the model adjust to compensate for missing variables\n",
        "    - Overfitting: When we include too many variables, we get a phenomenon called **multicolinearity** or **bad control**, where the variables are competing to explain the same variation in $y$ and \"get in each other's way,\" resulting in a low quality model"
      ]
    },
    {
      "cell_type": "markdown",
      "id": "94685e35-a767-4fb3-90a3-68106a877920",
      "metadata": {
        "id": "94685e35-a767-4fb3-90a3-68106a877920"
      },
      "source": [
        "## Omitted Variables Bias\n",
        "- What happens when you move variables in and out of a regression?\n",
        "- Suppose there's a \"true model,\"\n",
        "$$\n",
        "y_i = b_0 + b_1 x_{i1} + b_2 x_{i2} + \\varepsilon_i$$\n",
        "where $\\text{cov}(\\varepsilon_i,x_{i1})=0$ and $\\text{cov}(\\varepsilon_i,x_{i2})=0$; the regressors are \"exogenous\" or \"pre-determined\"\n",
        "- If the the two variables $x_1$ and $x_2$ are correlated, they both explain some of the same variation in $y$; if you drop one, the other will become a stronger predictor.\n",
        "- But if you drop one of the variables, say $x_2$, you introduce *bias* in the estimation of $b_1$ relative to the true value of $b_1$: You're not explaining all of the variation in $y$ that $x_2$ explained, and the model will now attribute more power to $x_1$ since it will soak up some of the variation in $y$ that $x_2$ explained"
      ]
    },
    {
      "cell_type": "markdown",
      "source": [
        "two regressors with the true relationship given the formula above\n",
        "\n",
        "if correlated, which causes which\n",
        "\n",
        "causation --> correlation --> simultaneaty bias\n",
        "\n",
        "assume that does not occur, these are 0"
      ],
      "metadata": {
        "id": "NYqAZR-waJsf"
      },
      "id": "NYqAZR-waJsf"
    },
    {
      "cell_type": "markdown",
      "id": "9daec865-4637-4f70-8f36-7fff4ad4f244",
      "metadata": {
        "id": "9daec865-4637-4f70-8f36-7fff4ad4f244"
      },
      "source": [
        "## Omitted Variables Bias [Math]\n",
        "- But if you regress $y$ on $x_1$ alone, the OLS coefficient is\n",
        "\\begin{eqnarray*}\n",
        "\\hat{b}_1 &=& \\dfrac{\\text{cov}(y,x_1)}{\\text{var}(x_1)} \\\\\n",
        "&=& \\dfrac{\\text{cov}(b_0 + b_1 x_1 + b_2 x_2+\\varepsilon,x_1)}{\\text{var}(x_1)} \\\\\n",
        "&=& \\dfrac{b_1 \\text{cov}(x_1,x_1) + b_2 \\text{cov}(x_2,x_1)+\\text{cov}(\\varepsilon,x_1)}{\\text{var}(x_1)} \\\\\n",
        "&=& b_1 \\underbrace{\\dfrac{\\text{cov}(x_1,x_1)}{\\text{var}(x_1)}}_{=1} + b_2 \\dfrac{\\text{cov}(x_2,x_1) }{\\text{var}(x_1)}+ \\underbrace{\\dfrac{\\text{cov}(\\varepsilon,x_1)}{\\text{var}(x_1)}}_{=0}\n",
        "\\end{eqnarray*}"
      ]
    },
    {
      "cell_type": "markdown",
      "source": [
        "what is b_2 (cov/var)\n",
        "\n",
        "regression of x_2 and x_1"
      ],
      "metadata": {
        "id": "cR3QlFrZa9xJ"
      },
      "id": "cR3QlFrZa9xJ"
    },
    {
      "cell_type": "markdown",
      "id": "a7dbaf8b-b8af-41b7-91f9-c89b8e98dbd1",
      "metadata": {
        "id": "a7dbaf8b-b8af-41b7-91f9-c89b8e98dbd1"
      },
      "source": [
        "## Omitted Variables Bias\n",
        "- The **omitted variables bias** formula for the above situation is:\n",
        "$$\n",
        "\\hat{b}_1 = \\underbrace{ b_1 }_{\\text{``True'' $b_1$ weight}} + \\underbrace{b_2}_{\\text{``True'' $b_2$ weight}} \\quad \\underbrace{ \\dfrac{ \\text{cov}(x_1, x_2) }{ \\text{var}(x_2)} }_{\\text{Regression weight of $x_1$ on $x_2$}}\n",
        "$$\n",
        "- When you drop $x_2$, $x_1$ indirectly picks up exactly the variation in $y$ that is explained by a regression of $x_1$ on $x_2$\n",
        "- This is often summarized as \"correlation is not causation\": Regression estimates can rarely be interpreted in a causal sense\n",
        "- If $\\text{cov}(x_1,x_2)=0$, there is no OVB problem because the variables are uncorrelated\n",
        "- OLS is brilliant: It automatically detects $x_2$'s influence on $y$ through $x_1$, **even if you don't even know $x_2$ exists**"
      ]
    },
    {
      "cell_type": "code",
      "execution_count": 2,
      "id": "11d2792d-48a8-4d37-b708-e461fcb4f7ae",
      "metadata": {
        "id": "11d2792d-48a8-4d37-b708-e461fcb4f7ae",
        "outputId": "b167e7ea-001a-497f-a242-e7c92d7f44ab",
        "colab": {
          "base_uri": "https://localhost:8080/",
          "height": 447
        }
      },
      "outputs": [
        {
          "output_type": "execute_result",
          "data": {
            "text/plain": [
              "<Axes: >"
            ]
          },
          "metadata": {},
          "execution_count": 2
        },
        {
          "output_type": "display_data",
          "data": {
            "text/plain": [
              "<Figure size 640x480 with 1 Axes>"
            ],
            "image/png": "[encoded data removed]"
          },
          "metadata": {}
        }
      ],
      "source": [
        "# Quick OVB Laboratory\n",
        "import numpy as np\n",
        "import pandas as pd\n",
        "import seaborn as sns\n",
        "import matplotlib.pyplot as plt\n",
        "\n",
        "N = 350\n",
        "K = 2\n",
        "rho = -.5\n",
        "mean = [0, 0]\n",
        "cov = [[1, rho], [rho, 1]]\n",
        "x1, x2 = np.random.default_rng().multivariate_normal(mean, cov, N).T\n",
        "sns.scatterplot(x=x1,y=x2)"
      ]
    },
    {
      "cell_type": "code",
      "execution_count": 3,
      "id": "78faef31-6fb0-4d76-90e9-b3811d458733",
      "metadata": {
        "id": "78faef31-6fb0-4d76-90e9-b3811d458733"
      },
      "outputs": [],
      "source": [
        "beta0 = np.array([8,4,2]) # True coefficients\n",
        "sigma =2 # Irreducible noise parameter\n",
        "eps = np.random.default_rng().normal(0, sigma, N).T # Generate shocks\n",
        "X = pd.DataFrame({'Intercept':np.ones(N), 'x1':x1, 'x2':x2}) # Data frame\n",
        "y = X @ beta0 + eps # Target variable"
      ]
    },
    {
      "cell_type": "code",
      "execution_count": 4,
      "id": "32de7de1-e0b6-4ece-ab90-e343a6d2ed39",
      "metadata": {
        "id": "32de7de1-e0b6-4ece-ab90-e343a6d2ed39",
        "outputId": "19fb4b0b-659d-4606-8e13-2a590784ea24",
        "colab": {
          "base_uri": "https://localhost:8080/",
          "height": 143
        }
      },
      "outputs": [
        {
          "output_type": "execute_result",
          "data": {
            "text/plain": [
              "    variable     slope\n",
              "0  Intercept  8.180579\n",
              "1         x1  3.778213\n",
              "2         x2  1.771026"
            ],
            "text/html": [
              "\n",
              "  <div id=\"df-8896956c-9db8-4211-bcc3-6c1aae52a2f5\" class=\"colab-df-container\">\n",
              "    <div>\n",
              "<style scoped>\n",
              "    .dataframe tbody tr th:only-of-type {\n",
              "        vertical-align: middle;\n",
              "    }\n",
              "\n",
              "    .dataframe tbody tr th {\n",
              "        vertical-align: top;\n",
              "    }\n",
              "\n",
              "    .dataframe thead th {\n",
              "        text-align: right;\n",
              "    }\n",
              "</style>\n",
              "<table border=\"1\" class=\"dataframe\">\n",
              "  <thead>\n",
              "    <tr style=\"text-align: right;\">\n",
              "      <th></th>\n",
              "      <th>variable</th>\n",
              "      <th>slope</th>\n",
              "    </tr>\n",
              "  </thead>\n",
              "  <tbody>\n",
              "    <tr>\n",
              "      <th>0</th>\n",
              "      <td>Intercept</td>\n",
              "      <td>8.180579</td>\n",
              "    </tr>\n",
              "    <tr>\n",
              "      <th>1</th>\n",
              "      <td>x1</td>\n",
              "      <td>3.778213</td>\n",
              "    </tr>\n",
              "    <tr>\n",
              "      <th>2</th>\n",
              "      <td>x2</td>\n",
              "      <td>1.771026</td>\n",
              "    </tr>\n",
              "  </tbody>\n",
              "</table>\n",
              "</div>\n",
              "    <div class=\"colab-df-buttons\">\n",
              "\n",
              "  <div class=\"colab-df-container\">\n",
              "    <button class=\"colab-df-convert\" onclick=\"convertToInteractive('df-8896956c-9db8-4211-bcc3-6c1aae52a2f5')\"\n",
              "            title=\"Convert this dataframe to an interactive table.\"\n",
              "            style=\"display:none;\">\n",
              "\n",
              "  <svg xmlns=\"http://www.w3.org/2000/svg\" height=\"24px\" viewBox=\"0 -960 960 960\">\n",
              "    <path d=\"M120-120v-720h720v720H120Zm60-500h600v-160H180v160Zm220 220h160v-160H400v160Zm0 220h160v-160H400v160ZM180-400h160v-160H180v160Zm440 0h160v-160H620v160ZM180-180h160v-160H180v160Zm440 0h160v-160H620v160Z\"/>\n",
              "  </svg>\n",
              "    </button>\n",
              "\n",
              "  <style>\n",
              "    .colab-df-container {\n",
              "      display:flex;\n",
              "      gap: 12px;\n",
              "    }\n",
              "\n",
              "    .colab-df-convert {\n",
              "      background-color: #E8F0FE;\n",
              "      border: none;\n",
              "      border-radius: 50%;\n",
              "      cursor: pointer;\n",
              "      display: none;\n",
              "      fill: #1967D2;\n",
              "      height: 32px;\n",
              "      padding: 0 0 0 0;\n",
              "      width: 32px;\n",
              "    }\n",
              "\n",
              "    .colab-df-convert:hover {\n",
              "      background-color: #E2EBFA;\n",
              "      box-shadow: 0px 1px 2px rgba(60, 64, 67, 0.3), 0px 1px 3px 1px rgba(60, 64, 67, 0.15);\n",
              "      fill: #174EA6;\n",
              "    }\n",
              "\n",
              "    .colab-df-buttons div {\n",
              "      margin-bottom: 4px;\n",
              "    }\n",
              "\n",
              "    [theme=dark] .colab-df-convert {\n",
              "      background-color: #3B4455;\n",
              "      fill: #D2E3FC;\n",
              "    }\n",
              "\n",
              "    [theme=dark] .colab-df-convert:hover {\n",
              "      background-color: #434B5C;\n",
              "      box-shadow: 0px 1px 3px 1px rgba(0, 0, 0, 0.15);\n",
              "      filter: drop-shadow(0px 1px 2px rgba(0, 0, 0, 0.3));\n",
              "      fill: #FFFFFF;\n",
              "    }\n",
              "  </style>\n",
              "\n",
              "    <script>\n",
              "      const buttonEl =\n",
              "        document.querySelector('#df-8896956c-9db8-4211-bcc3-6c1aae52a2f5 button.colab-df-convert');\n",
              "      buttonEl.style.display =\n",
              "        google.colab.kernel.accessAllowed ? 'block' : 'none';\n",
              "\n",
              "      async function convertToInteractive(key) {\n",
              "        const element = document.querySelector('#df-8896956c-9db8-4211-bcc3-6c1aae52a2f5');\n",
              "        const dataTable =\n",
              "          await google.colab.kernel.invokeFunction('convertToInteractive',\n",
              "                                                    [key], {});\n",
              "        if (!dataTable) return;\n",
              "\n",
              "        const docLinkHtml = 'Like what you see? Visit the ' +\n",
              "          '<a target=\"_blank\" href=https://colab.research.google.com/notebooks/data_table.ipynb>data table notebook</a>'\n",
              "          + ' to learn more about interactive tables.';\n",
              "        element.innerHTML = '';\n",
              "        dataTable['output_type'] = 'display_data';\n",
              "        await google.colab.output.renderOutput(dataTable, element);\n",
              "        const docLink = document.createElement('div');\n",
              "        docLink.innerHTML = docLinkHtml;\n",
              "        element.appendChild(docLink);\n",
              "      }\n",
              "    </script>\n",
              "  </div>\n",
              "\n",
              "\n",
              "<div id=\"df-5a65b796-2f5a-4b64-89e2-55c40772df04\">\n",
              "  <button class=\"colab-df-quickchart\" onclick=\"quickchart('df-5a65b796-2f5a-4b64-89e2-55c40772df04')\"\n",
              "            title=\"Suggest charts\"\n",
              "            style=\"display:none;\">\n",
              "\n",
              "<svg xmlns=\"http://www.w3.org/2000/svg\" height=\"24px\"viewBox=\"0 0 24 24\"\n",
              "     width=\"24px\">\n",
              "    <g>\n",
              "        <path d=\"M19 3H5c-1.1 0-2 .9-2 2v14c0 1.1.9 2 2 2h14c1.1 0 2-.9 2-2V5c0-1.1-.9-2-2-2zM9 17H7v-7h2v7zm4 0h-2V7h2v10zm4 0h-2v-4h2v4z\"/>\n",
              "    </g>\n",
              "</svg>\n",
              "  </button>\n",
              "\n",
              "<style>\n",
              "  .colab-df-quickchart {\n",
              "      --bg-color: #E8F0FE;\n",
              "      --fill-color: #1967D2;\n",
              "      --hover-bg-color: #E2EBFA;\n",
              "      --hover-fill-color: #174EA6;\n",
              "      --disabled-fill-color: #AAA;\n",
              "      --disabled-bg-color: #DDD;\n",
              "  }\n",
              "\n",
              "  [theme=dark] .colab-df-quickchart {\n",
              "      --bg-color: #3B4455;\n",
              "      --fill-color: #D2E3FC;\n",
              "      --hover-bg-color: #434B5C;\n",
              "      --hover-fill-color: #FFFFFF;\n",
              "      --disabled-bg-color: #3B4455;\n",
              "      --disabled-fill-color: #666;\n",
              "  }\n",
              "\n",
              "  .colab-df-quickchart {\n",
              "    background-color: var(--bg-color);\n",
              "    border: none;\n",
              "    border-radius: 50%;\n",
              "    cursor: pointer;\n",
              "    display: none;\n",
              "    fill: var(--fill-color);\n",
              "    height: 32px;\n",
              "    padding: 0;\n",
              "    width: 32px;\n",
              "  }\n",
              "\n",
              "  .colab-df-quickchart:hover {\n",
              "    background-color: var(--hover-bg-color);\n",
              "    box-shadow: 0 1px 2px rgba(60, 64, 67, 0.3), 0 1px 3px 1px rgba(60, 64, 67, 0.15);\n",
              "    fill: var(--button-hover-fill-color);\n",
              "  }\n",
              "\n",
              "  .colab-df-quickchart-complete:disabled,\n",
              "  .colab-df-quickchart-complete:disabled:hover {\n",
              "    background-color: var(--disabled-bg-color);\n",
              "    fill: var(--disabled-fill-color);\n",
              "    box-shadow: none;\n",
              "  }\n",
              "\n",
              "  .colab-df-spinner {\n",
              "    border: 2px solid var(--fill-color);\n",
              "    border-color: transparent;\n",
              "    border-bottom-color: var(--fill-color);\n",
              "    animation:\n",
              "      spin 1s steps(1) infinite;\n",
              "  }\n",
              "\n",
              "  @keyframes spin {\n",
              "    0% {\n",
              "      border-color: transparent;\n",
              "      border-bottom-color: var(--fill-color);\n",
              "      border-left-color: var(--fill-color);\n",
              "    }\n",
              "    20% {\n",
              "      border-color: transparent;\n",
              "      border-left-color: var(--fill-color);\n",
              "      border-top-color: var(--fill-color);\n",
              "    }\n",
              "    30% {\n",
              "      border-color: transparent;\n",
              "      border-left-color: var(--fill-color);\n",
              "      border-top-color: var(--fill-color);\n",
              "      border-right-color: var(--fill-color);\n",
              "    }\n",
              "    40% {\n",
              "      border-color: transparent;\n",
              "      border-right-color: var(--fill-color);\n",
              "      border-top-color: var(--fill-color);\n",
              "    }\n",
              "    60% {\n",
              "      border-color: transparent;\n",
              "      border-right-color: var(--fill-color);\n",
              "    }\n",
              "    80% {\n",
              "      border-color: transparent;\n",
              "      border-right-color: var(--fill-color);\n",
              "      border-bottom-color: var(--fill-color);\n",
              "    }\n",
              "    90% {\n",
              "      border-color: transparent;\n",
              "      border-bottom-color: var(--fill-color);\n",
              "    }\n",
              "  }\n",
              "</style>\n",
              "\n",
              "  <script>\n",
              "    async function quickchart(key) {\n",
              "      const quickchartButtonEl =\n",
              "        document.querySelector('#' + key + ' button');\n",
              "      quickchartButtonEl.disabled = true;  // To prevent multiple clicks.\n",
              "      quickchartButtonEl.classList.add('colab-df-spinner');\n",
              "      try {\n",
              "        const charts = await google.colab.kernel.invokeFunction(\n",
              "            'suggestCharts', [key], {});\n",
              "      } catch (error) {\n",
              "        console.error('Error during call to suggestCharts:', error);\n",
              "      }\n",
              "      quickchartButtonEl.classList.remove('colab-df-spinner');\n",
              "      quickchartButtonEl.classList.add('colab-df-quickchart-complete');\n",
              "    }\n",
              "    (() => {\n",
              "      let quickchartButtonEl =\n",
              "        document.querySelector('#df-5a65b796-2f5a-4b64-89e2-55c40772df04 button');\n",
              "      quickchartButtonEl.style.display =\n",
              "        google.colab.kernel.accessAllowed ? 'block' : 'none';\n",
              "    })();\n",
              "  </script>\n",
              "</div>\n",
              "    </div>\n",
              "  </div>\n"
            ],
            "application/vnd.google.colaboratory.intrinsic+json": {
              "type": "dataframe",
              "variable_name": "rdf",
              "summary": "{\n  \"name\": \"rdf\",\n  \"rows\": 3,\n  \"fields\": [\n    {\n      \"column\": \"variable\",\n      \"properties\": {\n        \"dtype\": \"string\",\n        \"num_unique_values\": 3,\n        \"samples\": [\n          \"Intercept\",\n          \"x1\",\n          \"x2\"\n        ],\n        \"semantic_type\": \"\",\n        \"description\": \"\"\n      }\n    },\n    {\n      \"column\": \"slope\",\n      \"properties\": {\n        \"dtype\": \"number\",\n        \"std\": 3.278515882469815,\n        \"min\": 1.771025634956122,\n        \"max\": 8.180578934485427,\n        \"num_unique_values\": 3,\n        \"samples\": [\n          8.180578934485427,\n          3.7782134361628708,\n          1.771025634956122\n        ],\n        \"semantic_type\": \"\",\n        \"description\": \"\"\n      }\n    }\n  ]\n}"
            }
          },
          "metadata": {},
          "execution_count": 4
        }
      ],
      "source": [
        "from sklearn.linear_model import LinearRegression # Import linear regression model\n",
        "reg = LinearRegression(fit_intercept=False).fit(X, y) # Fit the linear model\n",
        "rdf = pd.DataFrame({'variable': X.columns, 'slope':reg.coef_})\n",
        "rdf"
      ]
    },
    {
      "cell_type": "code",
      "execution_count": 5,
      "id": "3a6c8f09-eb31-4b56-ab2c-7acb64e52977",
      "metadata": {
        "id": "3a6c8f09-eb31-4b56-ab2c-7acb64e52977",
        "outputId": "bb4a7606-9ad3-4d14-8f36-ae7b7d250175",
        "colab": {
          "base_uri": "https://localhost:8080/",
          "height": 112
        }
      },
      "outputs": [
        {
          "output_type": "execute_result",
          "data": {
            "text/plain": [
              "    variable     slope\n",
              "0  Intercept  8.195210\n",
              "1         x1  2.834501"
            ],
            "text/html": [
              "\n",
              "  <div id=\"df-195d735a-cf6c-4926-8590-3683426087a5\" class=\"colab-df-container\">\n",
              "    <div>\n",
              "<style scoped>\n",
              "    .dataframe tbody tr th:only-of-type {\n",
              "        vertical-align: middle;\n",
              "    }\n",
              "\n",
              "    .dataframe tbody tr th {\n",
              "        vertical-align: top;\n",
              "    }\n",
              "\n",
              "    .dataframe thead th {\n",
              "        text-align: right;\n",
              "    }\n",
              "</style>\n",
              "<table border=\"1\" class=\"dataframe\">\n",
              "  <thead>\n",
              "    <tr style=\"text-align: right;\">\n",
              "      <th></th>\n",
              "      <th>variable</th>\n",
              "      <th>slope</th>\n",
              "    </tr>\n",
              "  </thead>\n",
              "  <tbody>\n",
              "    <tr>\n",
              "      <th>0</th>\n",
              "      <td>Intercept</td>\n",
              "      <td>8.195210</td>\n",
              "    </tr>\n",
              "    <tr>\n",
              "      <th>1</th>\n",
              "      <td>x1</td>\n",
              "      <td>2.834501</td>\n",
              "    </tr>\n",
              "  </tbody>\n",
              "</table>\n",
              "</div>\n",
              "    <div class=\"colab-df-buttons\">\n",
              "\n",
              "  <div class=\"colab-df-container\">\n",
              "    <button class=\"colab-df-convert\" onclick=\"convertToInteractive('df-195d735a-cf6c-4926-8590-3683426087a5')\"\n",
              "            title=\"Convert this dataframe to an interactive table.\"\n",
              "            style=\"display:none;\">\n",
              "\n",
              "  <svg xmlns=\"http://www.w3.org/2000/svg\" height=\"24px\" viewBox=\"0 -960 960 960\">\n",
              "    <path d=\"M120-120v-720h720v720H120Zm60-500h600v-160H180v160Zm220 220h160v-160H400v160Zm0 220h160v-160H400v160ZM180-400h160v-160H180v160Zm440 0h160v-160H620v160ZM180-180h160v-160H180v160Zm440 0h160v-160H620v160Z\"/>\n",
              "  </svg>\n",
              "    </button>\n",
              "\n",
              "  <style>\n",
              "    .colab-df-container {\n",
              "      display:flex;\n",
              "      gap: 12px;\n",
              "    }\n",
              "\n",
              "    .colab-df-convert {\n",
              "      background-color: #E8F0FE;\n",
              "      border: none;\n",
              "      border-radius: 50%;\n",
              "      cursor: pointer;\n",
              "      display: none;\n",
              "      fill: #1967D2;\n",
              "      height: 32px;\n",
              "      padding: 0 0 0 0;\n",
              "      width: 32px;\n",
              "    }\n",
              "\n",
              "    .colab-df-convert:hover {\n",
              "      background-color: #E2EBFA;\n",
              "      box-shadow: 0px 1px 2px rgba(60, 64, 67, 0.3), 0px 1px 3px 1px rgba(60, 64, 67, 0.15);\n",
              "      fill: #174EA6;\n",
              "    }\n",
              "\n",
              "    .colab-df-buttons div {\n",
              "      margin-bottom: 4px;\n",
              "    }\n",
              "\n",
              "    [theme=dark] .colab-df-convert {\n",
              "      background-color: #3B4455;\n",
              "      fill: #D2E3FC;\n",
              "    }\n",
              "\n",
              "    [theme=dark] .colab-df-convert:hover {\n",
              "      background-color: #434B5C;\n",
              "      box-shadow: 0px 1px 3px 1px rgba(0, 0, 0, 0.15);\n",
              "      filter: drop-shadow(0px 1px 2px rgba(0, 0, 0, 0.3));\n",
              "      fill: #FFFFFF;\n",
              "    }\n",
              "  </style>\n",
              "\n",
              "    <script>\n",
              "      const buttonEl =\n",
              "        document.querySelector('#df-195d735a-cf6c-4926-8590-3683426087a5 button.colab-df-convert');\n",
              "      buttonEl.style.display =\n",
              "        google.colab.kernel.accessAllowed ? 'block' : 'none';\n",
              "\n",
              "      async function convertToInteractive(key) {\n",
              "        const element = document.querySelector('#df-195d735a-cf6c-4926-8590-3683426087a5');\n",
              "        const dataTable =\n",
              "          await google.colab.kernel.invokeFunction('convertToInteractive',\n",
              "                                                    [key], {});\n",
              "        if (!dataTable) return;\n",
              "\n",
              "        const docLinkHtml = 'Like what you see? Visit the ' +\n",
              "          '<a target=\"_blank\" href=https://colab.research.google.com/notebooks/data_table.ipynb>data table notebook</a>'\n",
              "          + ' to learn more about interactive tables.';\n",
              "        element.innerHTML = '';\n",
              "        dataTable['output_type'] = 'display_data';\n",
              "        await google.colab.output.renderOutput(dataTable, element);\n",
              "        const docLink = document.createElement('div');\n",
              "        docLink.innerHTML = docLinkHtml;\n",
              "        element.appendChild(docLink);\n",
              "      }\n",
              "    </script>\n",
              "  </div>\n",
              "\n",
              "\n",
              "<div id=\"df-49d92baf-cc4a-4d1c-99c4-df6252734c8d\">\n",
              "  <button class=\"colab-df-quickchart\" onclick=\"quickchart('df-49d92baf-cc4a-4d1c-99c4-df6252734c8d')\"\n",
              "            title=\"Suggest charts\"\n",
              "            style=\"display:none;\">\n",
              "\n",
              "<svg xmlns=\"http://www.w3.org/2000/svg\" height=\"24px\"viewBox=\"0 0 24 24\"\n",
              "     width=\"24px\">\n",
              "    <g>\n",
              "        <path d=\"M19 3H5c-1.1 0-2 .9-2 2v14c0 1.1.9 2 2 2h14c1.1 0 2-.9 2-2V5c0-1.1-.9-2-2-2zM9 17H7v-7h2v7zm4 0h-2V7h2v10zm4 0h-2v-4h2v4z\"/>\n",
              "    </g>\n",
              "</svg>\n",
              "  </button>\n",
              "\n",
              "<style>\n",
              "  .colab-df-quickchart {\n",
              "      --bg-color: #E8F0FE;\n",
              "      --fill-color: #1967D2;\n",
              "      --hover-bg-color: #E2EBFA;\n",
              "      --hover-fill-color: #174EA6;\n",
              "      --disabled-fill-color: #AAA;\n",
              "      --disabled-bg-color: #DDD;\n",
              "  }\n",
              "\n",
              "  [theme=dark] .colab-df-quickchart {\n",
              "      --bg-color: #3B4455;\n",
              "      --fill-color: #D2E3FC;\n",
              "      --hover-bg-color: #434B5C;\n",
              "      --hover-fill-color: #FFFFFF;\n",
              "      --disabled-bg-color: #3B4455;\n",
              "      --disabled-fill-color: #666;\n",
              "  }\n",
              "\n",
              "  .colab-df-quickchart {\n",
              "    background-color: var(--bg-color);\n",
              "    border: none;\n",
              "    border-radius: 50%;\n",
              "    cursor: pointer;\n",
              "    display: none;\n",
              "    fill: var(--fill-color);\n",
              "    height: 32px;\n",
              "    padding: 0;\n",
              "    width: 32px;\n",
              "  }\n",
              "\n",
              "  .colab-df-quickchart:hover {\n",
              "    background-color: var(--hover-bg-color);\n",
              "    box-shadow: 0 1px 2px rgba(60, 64, 67, 0.3), 0 1px 3px 1px rgba(60, 64, 67, 0.15);\n",
              "    fill: var(--button-hover-fill-color);\n",
              "  }\n",
              "\n",
              "  .colab-df-quickchart-complete:disabled,\n",
              "  .colab-df-quickchart-complete:disabled:hover {\n",
              "    background-color: var(--disabled-bg-color);\n",
              "    fill: var(--disabled-fill-color);\n",
              "    box-shadow: none;\n",
              "  }\n",
              "\n",
              "  .colab-df-spinner {\n",
              "    border: 2px solid var(--fill-color);\n",
              "    border-color: transparent;\n",
              "    border-bottom-color: var(--fill-color);\n",
              "    animation:\n",
              "      spin 1s steps(1) infinite;\n",
              "  }\n",
              "\n",
              "  @keyframes spin {\n",
              "    0% {\n",
              "      border-color: transparent;\n",
              "      border-bottom-color: var(--fill-color);\n",
              "      border-left-color: var(--fill-color);\n",
              "    }\n",
              "    20% {\n",
              "      border-color: transparent;\n",
              "      border-left-color: var(--fill-color);\n",
              "      border-top-color: var(--fill-color);\n",
              "    }\n",
              "    30% {\n",
              "      border-color: transparent;\n",
              "      border-left-color: var(--fill-color);\n",
              "      border-top-color: var(--fill-color);\n",
              "      border-right-color: var(--fill-color);\n",
              "    }\n",
              "    40% {\n",
              "      border-color: transparent;\n",
              "      border-right-color: var(--fill-color);\n",
              "      border-top-color: var(--fill-color);\n",
              "    }\n",
              "    60% {\n",
              "      border-color: transparent;\n",
              "      border-right-color: var(--fill-color);\n",
              "    }\n",
              "    80% {\n",
              "      border-color: transparent;\n",
              "      border-right-color: var(--fill-color);\n",
              "      border-bottom-color: var(--fill-color);\n",
              "    }\n",
              "    90% {\n",
              "      border-color: transparent;\n",
              "      border-bottom-color: var(--fill-color);\n",
              "    }\n",
              "  }\n",
              "</style>\n",
              "\n",
              "  <script>\n",
              "    async function quickchart(key) {\n",
              "      const quickchartButtonEl =\n",
              "        document.querySelector('#' + key + ' button');\n",
              "      quickchartButtonEl.disabled = true;  // To prevent multiple clicks.\n",
              "      quickchartButtonEl.classList.add('colab-df-spinner');\n",
              "      try {\n",
              "        const charts = await google.colab.kernel.invokeFunction(\n",
              "            'suggestCharts', [key], {});\n",
              "      } catch (error) {\n",
              "        console.error('Error during call to suggestCharts:', error);\n",
              "      }\n",
              "      quickchartButtonEl.classList.remove('colab-df-spinner');\n",
              "      quickchartButtonEl.classList.add('colab-df-quickchart-complete');\n",
              "    }\n",
              "    (() => {\n",
              "      let quickchartButtonEl =\n",
              "        document.querySelector('#df-49d92baf-cc4a-4d1c-99c4-df6252734c8d button');\n",
              "      quickchartButtonEl.style.display =\n",
              "        google.colab.kernel.accessAllowed ? 'block' : 'none';\n",
              "    })();\n",
              "  </script>\n",
              "</div>\n",
              "    </div>\n",
              "  </div>\n"
            ],
            "application/vnd.google.colaboratory.intrinsic+json": {
              "type": "dataframe",
              "variable_name": "rdf",
              "summary": "{\n  \"name\": \"rdf\",\n  \"rows\": 2,\n  \"fields\": [\n    {\n      \"column\": \"variable\",\n      \"properties\": {\n        \"dtype\": \"string\",\n        \"num_unique_values\": 2,\n        \"samples\": [\n          \"x1\",\n          \"Intercept\"\n        ],\n        \"semantic_type\": \"\",\n        \"description\": \"\"\n      }\n    },\n    {\n      \"column\": \"slope\",\n      \"properties\": {\n        \"dtype\": \"number\",\n        \"std\": 3.7905937561050096,\n        \"min\": 2.834501250178291,\n        \"max\": 8.195210349508768,\n        \"num_unique_values\": 2,\n        \"samples\": [\n          2.834501250178291,\n          8.195210349508768\n        ],\n        \"semantic_type\": \"\",\n        \"description\": \"\"\n      }\n    }\n  ]\n}"
            }
          },
          "metadata": {},
          "execution_count": 5
        }
      ],
      "source": [
        "from sklearn.linear_model import LinearRegression # Import linear regression model\n",
        "Z = pd.DataFrame({'Intercept':np.ones(N), 'x1':x1}) # Data frame\n",
        "reg_ovb = LinearRegression(fit_intercept=False).fit(Z, y) # Fit the linear model\n",
        "rdf = pd.DataFrame({'variable': Z.columns, 'slope':reg_ovb.coef_})\n",
        "rdf"
      ]
    },
    {
      "cell_type": "code",
      "execution_count": 6,
      "id": "3d777c80-a05f-41e9-8e5d-efbbac1c4a63",
      "metadata": {
        "id": "3d777c80-a05f-41e9-8e5d-efbbac1c4a63",
        "outputId": "8fbf3d3f-514b-4be3-de8f-ba3832feb1b3",
        "colab": {
          "base_uri": "https://localhost:8080/"
        }
      },
      "outputs": [
        {
          "output_type": "stream",
          "name": "stdout",
          "text": [
            "2.834501250178285\n"
          ]
        },
        {
          "output_type": "execute_result",
          "data": {
            "text/plain": [
              "3.0"
            ]
          },
          "metadata": {},
          "execution_count": 6
        }
      ],
      "source": [
        "# Regress x2 on x1:\n",
        "VCV = X.loc[:,['x1','x2']].cov()\n",
        "reg_x2_x1 = VCV.iloc[0,1]/VCV.iloc[0,0]\n",
        "\n",
        "# Compute OVB:\n",
        "print(reg.coef_[1] + reg.coef_[2]*reg_x2_x1) # Small sample biased coefficient\n",
        "beta0[1] + beta0[2]*rho # Theoretical OVB coefficient value"
      ]
    },
    {
      "cell_type": "markdown",
      "id": "017c0612-eac9-49d1-beeb-6b3f037d43b2",
      "metadata": {
        "id": "017c0612-eac9-49d1-beeb-6b3f037d43b2"
      },
      "source": [
        "## Omitted Variables Bias\n",
        "- From the formula, you can tell which way the bias goes from $\\text{cov}(x_1,x_2)$ and $b_2$:\n",
        "  - $\\hat{b}_1$ is biased up if $\\text{cov}(x_1,x_2)>0$ and $b_2>0$ or both negative\n",
        "  - $\\hat{b}_1$ is biased down if $\\text{cov}(x_1,x_2)<0$ and $b_2>0$ or vice versa\n",
        "- This can be a helpful check for your intuition when you see unexpected coefficient signs: It could the coefficient, or the covariance"
      ]
    },
    {
      "cell_type": "markdown",
      "id": "27d68eee-aecc-428d-9f72-5366c3c29146",
      "metadata": {
        "id": "27d68eee-aecc-428d-9f72-5366c3c29146"
      },
      "source": [
        "## Examples of Omitted Variables Bias\n",
        "- Why can't health studies provide basic answers to fundamental questions? (e.g. Are eggs good for you or not? What's the causal effect of drinking/smoking/exercise/elective procedures? What's the OVB problem?)\n",
        "- Why are there so many poorly designed, low quality studies that get published and publicized? (e.g. \"Married people earn higher wages\" is a classic. \"People who eat ice cream live longer.\" What's the OVB problem?)\n",
        "- Does college raise wages? (What's the OVB problem?)\n",
        "- A lot of \"research\" is industrialized confirmation bias, which churns out badly estimated correlations and calls it \"science\""
      ]
    },
    {
      "cell_type": "markdown",
      "id": "2618c1b0-352f-4d42-aef7-48495dd83484",
      "metadata": {
        "id": "2618c1b0-352f-4d42-aef7-48495dd83484"
      },
      "source": [
        "## Multicolinearity\n",
        "- The natural response is, \"OK, then we should include all the possible explanatory variables to avoid OVB?\"\n",
        "- Unfortunately, it's not that simple: Even if you had all the variables you might want (you never do; e.g. ability, determination, self-control, etc.), there's an infinte number of ways to expand/combine them, and this often leads to a statistical phenomenon called \"multicolinearity\"\n",
        "- If some set of variables are correlated, they co-explain each other and the outcome --- the \"partialing out\" process reduces the explanatory power of each, since there's only so much variation in $y$ to explain with a limited number of $N$ observations\n",
        "- Remember the OLS coefficient $b_k$ is as if you regressed each of $y$ and $x_k$ on all of the other variables, and then regressed the residuals of $y$ and $x_k$ on one another\n",
        "- If two explanatory/feature variables are highly correlated, they \"get in each other's way\" in trying to explain the data: Coefficients become noisily estimated, predictions become highly variable, and regressions become statistically insignificant"
      ]
    },
    {
      "cell_type": "markdown",
      "id": "3202ac81-8dd8-4e40-8292-c82b9ff59007",
      "metadata": {
        "id": "3202ac81-8dd8-4e40-8292-c82b9ff59007"
      },
      "source": [
        "## Multicolinearity\n",
        "![](https://github.com/isabellamwright/bias_and_variance/blob/main/table.png?raw=1)"
      ]
    },
    {
      "cell_type": "markdown",
      "id": "9c7d357c-84d6-46f4-b1f8-21338d9d5cf2",
      "metadata": {
        "id": "9c7d357c-84d6-46f4-b1f8-21338d9d5cf2"
      },
      "source": [
        "## Multicolinearity\n",
        "- This is called **multi-colinearity** or **bad control** --- a \"kitchen sink\" model will probably not only be biased, but perform badly in every other sense we care about\n",
        "- Classic bad control is when you add a variable, and suddenly a bunch of other variables become smaller and statistically insignificant, or even reverse sign\n",
        "- If you've moved variables in and out of a regression and felt like the results made no sense, it was probably because of this phenomenon\n",
        "- This creates a dilemma/trade-off: OVB on the one hand (bias, underfit models), potential bad control on the other (high variance, overfit models)\n",
        "- The practice of data science is partly about exploring the trade-off between the two"
      ]
    },
    {
      "cell_type": "markdown",
      "id": "fabb12ff-6b7c-4b52-ad9b-0eeef9a4c3c1",
      "metadata": {
        "id": "fabb12ff-6b7c-4b52-ad9b-0eeef9a4c3c1"
      },
      "source": [
        "## Experiments and Causal Inference\n",
        "- A lot of fields resolve this dilemma by only study pre-registered randomized experiments (e.g. epidemiology, medicine)\n",
        "- This is good when done right, but didn't stop the replication crisis because that community of researchers wasn't doing science correctly (they didn't follow vague pre-analysis plans)\n",
        "- Some fields allow for \"natural experiments\" in which randomization occurs as a result of conditions beyond the control of the people in the situation (e.g. public health, social science)\n",
        "- This is all important... but does it matter for raw prediction? If we don't want to interpret the coefficients or control a process, but just make good predictions?"
      ]
    },
    {
      "cell_type": "markdown",
      "id": "c63d5709-894e-4e9a-bfaf-a74af78f4c41",
      "metadata": {
        "id": "c63d5709-894e-4e9a-bfaf-a74af78f4c41"
      },
      "source": [
        "## The Bias-Variance Trade-Off\n",
        "- Imagine there's a true model, $y = f(x) + \\varepsilon$, where the expected value of $\\varepsilon$ is zero, so $\\mathbb{E}_\\varepsilon[\\varepsilon]=0$, and $\\mathbb{E}_\\varepsilon[\\varepsilon^2]=\\sigma^2$\n",
        "- We have a model $\\hat{f}(x,D) = \\hat{y}$, that depends on data $D=(X,y)$\n",
        "- There are a few quantities of interest:\n",
        "  - The predictor bias, $\\mathbb{E}_{D}[ f(x) - \\hat{f}(x,D)]$: How wrong the model is, on average; expected error\n",
        "  - The predictor variance, $\\mathbb{E}_{D}[(\\hat{f}(x,D) - \\mathbb{E}_D[\\hat{f}(x,D)])^2]$: How noisy our predictions are; expected predictor variance\n",
        "  - The irreducible variance, $\\mathbb{E}_{\\varepsilon}[\\varepsilon^2]=\\sigma^2$: How noisy the prediction environment is\n",
        "- We want to study the **expected prediction error** at $x$: $$ \\mathbb{E}_{D,\\varepsilon}[(y-\\hat{f}(x,D))^2]$$"
      ]
    },
    {
      "cell_type": "markdown",
      "id": "23bac8bd-cfc5-40d2-a6b5-64fbc8e8e8ae",
      "metadata": {
        "id": "23bac8bd-cfc5-40d2-a6b5-64fbc8e8e8ae"
      },
      "source": [
        "## Bias and Variance: The Picture\n",
        "![word](https://github.com/isabellamwright/bias_and_variance/blob/main/bvt.png?raw=1)"
      ]
    },
    {
      "cell_type": "markdown",
      "id": "6f194856-a4de-4a5d-ac6f-f0efc3b175e9",
      "metadata": {
        "id": "6f194856-a4de-4a5d-ac6f-f0efc3b175e9"
      },
      "source": [
        "## Bias-Variance Trade-off [Math]\n",
        "- The surprising fact is that all these quantities --- predictor bias, predictor variance, and irreducible variance --- are related to the expected prediction error at $x$:\n",
        "\\begin{eqnarray*}\n",
        "\\mathbb{E}_{D,\\varepsilon}[(y-\\hat{f}(x,D))^2] &=& \\mathbb{E}_{D,\\varepsilon}[(f(x)+\\varepsilon-\\hat{f}(x,D))^2] \\\\\n",
        "&=& \\mathbb{E}_{D,\\varepsilon}\\left[f(x)^2-2f(x)\\hat{f}(x,D)+\\varepsilon^2 +\\hat{f}(x,D)^2 \\right. \\\\\n",
        "&& \\left. + 2f(x)\\varepsilon-2\\varepsilon\\hat{f}(x,D) \\right]\\\\\n",
        "&=& f(x)^2-2f(x)\\mathbb{E}_{D}[\\hat{f}(x,D)] +\\mathbb{E}_{D}[\\hat{f}(x,D)^2]\\\\\n",
        "&& +\\mathbb{E}_{\\varepsilon}[\\varepsilon^2] \\\\\n",
        "&&  + 2f(x)\\mathbb{E}_{\\varepsilon}[\\varepsilon]-2\\mathbb{E}_{\\varepsilon}[\\varepsilon]\\mathbb{E}_{\\varepsilon}[\\hat{f}(x,D)]\n",
        "\\end{eqnarray*}\n",
        "The third line equals zero, since $\\mathbb{E}_{\\varepsilon}[\\varepsilon]=0$, and the second equals $\\sigma^2$ since $\\mathbb{E}_\\varepsilon[\\varepsilon^2]=\\sigma^2$. To get the first line to \"work,\" we add and subtract $\\pm (\\mathbb{E}_D[\\hat{f}(x,D)])^2$ and factor the quadratic terms."
      ]
    },
    {
      "cell_type": "markdown",
      "id": "3e3f936f-6a2e-4325-9a6a-69eb50d96884",
      "metadata": {
        "id": "3e3f936f-6a2e-4325-9a6a-69eb50d96884"
      },
      "source": [
        "## Bias-Variance Trade-off\n",
        "- This gives:\n",
        "\\begin{eqnarray*}\n",
        "\\underbrace{\\mathbb{E}_{D,\\varepsilon}[(y-\\hat{f}(x,D))^2]}_{\\text{Expected prediction error}} &=&\n",
        "\\underbrace{(f(x)-\\mathbb{E}_{D}[\\hat{f}(x,D)])^2}_{\\text{Bias squared}}\\\\\n",
        "&& +\\underbrace{\\mathbb{E}_{D}[(\\hat{f}(x,D)-\\mathbb{E}_D[\\hat{f}(x,D)])^2]}_{\\text{Predictor Variance}}\\\\\n",
        "&& + \\underbrace{\\sigma^2}_{\\text{Irreducible Error}}\n",
        "\\end{eqnarray*}\n",
        "This decomposes the performance of a predictor into a bias term, a variance term, and the irreducible error that can't be improved on\n",
        "- This is a cornerstone idea of machine learning: Prediction is not unbiased estimation, and unbiased estimators can be bad predictors"
      ]
    },
    {
      "cell_type": "markdown",
      "id": "3e96c9e9-dfc6-47bc-ab0f-30008264d464",
      "metadata": {
        "id": "3e96c9e9-dfc6-47bc-ab0f-30008264d464"
      },
      "source": [
        "## Model Complexity\n",
        "![](https://github.com/isabellamwright/bias_and_variance/blob/main/model_complexity.png?raw=1)"
      ]
    },
    {
      "cell_type": "markdown",
      "id": "de8f3eab-8d23-4d1e-8535-81a8bb33fb44",
      "metadata": {
        "id": "de8f3eab-8d23-4d1e-8535-81a8bb33fb44"
      },
      "source": [
        "## The Bias-Variance Trade-Off\n",
        "- So if your goal is *prediction*, you are willing to allow for some bias in order to reduce the variance of your predictor: OVB, for example, **can be** a price worth paying if your goal is prediction\n",
        "- **Unbiased estimation is not necessarily good prediction**\n",
        "- **Biased models can still be bad**\n",
        "- But you should recognize that your model is statistically biased, and that might have consequences for interpretation and deployment\n",
        "- If it happens that some group is statistically more likely to, say, default on a loan or commit a violent crime according to a statistically biased model, should that model be used? If so, how?\n",
        "- This is the threat and promise of deploying stats/ML tools in domains that previously didn't exploit quantitative tools as extensively"
      ]
    },
    {
      "cell_type": "markdown",
      "id": "4333a06d-2965-48a3-aea1-82a1f9a52d18",
      "metadata": {
        "jp-MarkdownHeadingCollapsed": true,
        "id": "4333a06d-2965-48a3-aea1-82a1f9a52d18"
      },
      "source": [
        "## Linear Models\n",
        "- So we have a serious problem:\n",
        "\t- Omitting variables introduces bias (OVB)\n",
        "\t- Having too many correlated variables \"breaks\" linear regression (bad control)\n",
        "\t- The truth is that there's an unavoidable trade-off for prediction: Bias versus variance\n",
        "- We looked at these concepts in the context of regression, but they're general concerns with any statistical/data-driven analysis\n",
        "- Many (not all) data scientists dismiss these concerns as \"not data science,\" and that's typical in a field without theories to discipline their hypothesizing and analysis\n",
        "- If we're data scientists and our goal is prediction, how do we strike a balance between building useful predictive models versus overfitting and creating garbage?\n",
        "- We'll use a generalization of the test/train split concept we've used throughout class, called Cross Validation"
      ]
    }
  ],
  "metadata": {
    "kernelspec": {
      "display_name": "Python 3 (ipykernel)",
      "language": "python",
      "name": "python3"
    },
    "language_info": {
      "codemirror_mode": {
        "name": "ipython",
        "version": 3
      },
      "file_extension": ".py",
      "mimetype": "text/x-python",
      "name": "python",
      "nbconvert_exporter": "python",
      "pygments_lexer": "ipython3",
      "version": "3.10.4"
    },
    "colab": {
      "provenance": []
    }
  },
  "nbformat": 4,
  "nbformat_minor": 5
}